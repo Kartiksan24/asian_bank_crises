{
 "cells": [
  {
   "cell_type": "markdown",
   "metadata": {},
   "source": [
    "# Identifying factors correlated with banking crises in Asia: 1800 - 2016\n",
    "- In this notebook, we attempt to model banking crises in a select group of Asian countries.\n",
    "- We seek top identify macroeconomic and geopolitical events which occured immediately before, after or at the same time as banking crises in these countries, in the period 1800 - 2016.\n",
    "- The hypothesis is that the occurence of these events in the present day may also correlate with banking crises in Asian countries.\n",
    "\n",
    "### Dataset:\n",
    "- I've used the dataset manintained by Carmen reinhart et al.,  available here: https://www.hbs.edu/behavioral-finance-and-financial-stability/data/Pages/global.aspx\n",
    "- 13 asian countries chosen for the study: India, Sri Lanka, China, Taiwan, Korea, Indonesia, Japan, Malaysia, Myanmar, Philippines, Russia, Singapore, Thailand.\n",
    "\n",
    "#### Objective:\n",
    "- To predict whether a banking crisis (i.e. a host of banks in a state of illiquidity or insolvency ) might occur in a set of Asian countries, given set of other extenuating macroeconomic circumstances\n",
    "\n",
    "#### Input variables:\n",
    "##### Following input variables are boolean variables (i.e. 0 = No, 1 = Yes)\n",
    " - Systemic Crisis\n",
    " - Default on Domestic Debt\n",
    " - Default on Sovereign External Debt\n",
    " - Independence\n",
    " - Currency crises (insufficient currency avaiable with the reserve abnk to stabilize the exchange rate)\n",
    " - Inflation crises (period characterized by CPI inflation >= 20 %)\n",
    " - Gold Standard (whether the country followed the gold standard)\n",
    "\n",
    "##### Methodology:\n",
    "- Machine learning methods - specifically:\n",
    "  1. Logistic Regression\n",
    "   - Model Implementation using logistic regression classifier \n",
    "   - Model validation using confusion matrix and ROC curve\n",
    "  \n",
    "##### Assumptions:\n",
    "- Banking crises can be predicted basis correlations with the specific set of macroeconomic events, reduced to Boolean inpu variables\n",
    "- Where values were not avaialble in the dataset, the value is taken to be '0'"
   ]
  },
  {
   "cell_type": "code",
   "execution_count": 1,
   "metadata": {},
   "outputs": [],
   "source": [
    "# import the relevant libraries\n",
    "import pandas as pd\n",
    "import numpy as np\n",
    "import matplotlib.pyplot as plt\n",
    "from matplotlib import style\n",
    "from sklearn.linear_model import LogisticRegression\n",
    "from sklearn.model_selection import train_test_split\n",
    "import seaborn as sns\n",
    "\n",
    "%matplotlib inline"
   ]
  },
  {
   "cell_type": "code",
   "execution_count": 2,
   "metadata": {},
   "outputs": [],
   "source": [
    "#Importing dataset\n",
    "df1 = pd.read_excel('20160923_global_crisis_data.xlsx', sheet_name = 'asia')"
   ]
  },
  {
   "cell_type": "code",
   "execution_count": 3,
   "metadata": {},
   "outputs": [
    {
     "data": {
      "text/plain": [
       "(2821, 12)"
      ]
     },
     "execution_count": 3,
     "metadata": {},
     "output_type": "execute_result"
    }
   ],
   "source": [
    "df1.shape"
   ]
  },
  {
   "cell_type": "code",
   "execution_count": 4,
   "metadata": {},
   "outputs": [
    {
     "data": {
      "text/plain": [
       "Index(['Case', 'CC3', 'Country', 'Year', 'Banking Crisis ', 'Systemic Crisis',\n",
       "       'Gold Standard', 'Domestic_Debt_In_Default',\n",
       "       'Sovereign_Debt_In_Default', 'Independence', 'Currency Crises',\n",
       "       'Inflation Crises'],\n",
       "      dtype='object')"
      ]
     },
     "execution_count": 4,
     "metadata": {},
     "output_type": "execute_result"
    }
   ],
   "source": [
    "df1.columns"
   ]
  },
  {
   "cell_type": "code",
   "execution_count": 5,
   "metadata": {},
   "outputs": [],
   "source": [
    "df1.rename(columns = {'Country':'country', 'Year':'year', 'Banking Crisis ': 'banking_crisis', 'Systemic Crisis':'systemic_crisis', 'Gold Standard':'gold_standard','Currency Crises':'currency_crises','Inflation Crises':'inflation_crises'}, inplace = True)"
   ]
  },
  {
   "cell_type": "code",
   "execution_count": 6,
   "metadata": {},
   "outputs": [
    {
     "data": {
      "text/plain": [
       "Index(['Case', 'CC3', 'country', 'year', 'banking_crisis', 'systemic_crisis',\n",
       "       'gold_standard', 'Domestic_Debt_In_Default',\n",
       "       'Sovereign_Debt_In_Default', 'Independence', 'currency_crises',\n",
       "       'inflation_crises'],\n",
       "      dtype='object')"
      ]
     },
     "execution_count": 6,
     "metadata": {},
     "output_type": "execute_result"
    }
   ],
   "source": [
    "df1.columns"
   ]
  },
  {
   "cell_type": "code",
   "execution_count": 7,
   "metadata": {},
   "outputs": [
    {
     "name": "stdout",
     "output_type": "stream",
     "text": [
      "<class 'pandas.core.frame.DataFrame'>\n",
      "RangeIndex: 2821 entries, 0 to 2820\n",
      "Data columns (total 12 columns):\n",
      " #   Column                     Non-Null Count  Dtype \n",
      "---  ------                     --------------  ----- \n",
      " 0   Case                       2821 non-null   int64 \n",
      " 1   CC3                        2821 non-null   object\n",
      " 2   country                    2821 non-null   object\n",
      " 3   year                       2821 non-null   int64 \n",
      " 4   banking_crisis             2821 non-null   int64 \n",
      " 5   systemic_crisis            2821 non-null   int64 \n",
      " 6   gold_standard              2821 non-null   int64 \n",
      " 7   Domestic_Debt_In_Default   2821 non-null   int64 \n",
      " 8   Sovereign_Debt_In_Default  2821 non-null   int64 \n",
      " 9   Independence               2821 non-null   int64 \n",
      " 10  currency_crises            2821 non-null   int64 \n",
      " 11  inflation_crises           2821 non-null   int64 \n",
      "dtypes: int64(10), object(2)\n",
      "memory usage: 264.6+ KB\n"
     ]
    }
   ],
   "source": [
    "# selecting specific columns for the model\n",
    "df1.info()"
   ]
  },
  {
   "cell_type": "markdown",
   "metadata": {},
   "source": [
    "## Logistic Regression"
   ]
  },
  {
   "cell_type": "code",
   "execution_count": 8,
   "metadata": {},
   "outputs": [],
   "source": [
    "# divide the data into attributes (dependent variables) and labels (indepenedent variable)\n",
    "X = df1[['systemic_crisis',\n",
    "       'gold_standard', 'Domestic_Debt_In_Default',\n",
    "       'Sovereign_Debt_In_Default', 'Independence', 'currency_crises',\n",
    "       'inflation_crises']]\n",
    "Y = df1['banking_crisis']"
   ]
  },
  {
   "cell_type": "code",
   "execution_count": 9,
   "metadata": {},
   "outputs": [
    {
     "name": "stdout",
     "output_type": "stream",
     "text": [
      "(2821, 7) (2821,)\n"
     ]
    }
   ],
   "source": [
    "len(Y)\n",
    "print(X.shape, Y.shape)"
   ]
  },
  {
   "cell_type": "code",
   "execution_count": 10,
   "metadata": {},
   "outputs": [
    {
     "data": {
      "text/plain": [
       "140"
      ]
     },
     "execution_count": 10,
     "metadata": {},
     "output_type": "execute_result"
    }
   ],
   "source": [
    "np.count_nonzero(Y)"
   ]
  },
  {
   "cell_type": "code",
   "execution_count": 14,
   "metadata": {},
   "outputs": [
    {
     "name": "stdout",
     "output_type": "stream",
     "text": [
      "2681\n",
      "percentage of no crisis is:  95.03722084367246\n",
      "percentage of crisis is:  4.962779156327544\n"
     ]
    }
   ],
   "source": [
    "count_no_crisis = len(Y) - np.count_nonzero(Y)\n",
    "print(count_no_crisis)\n",
    "\n",
    "count_crisis = np.count_nonzero(Y)\n",
    "pct_of_no_crisis = count_no_crisis/(count_no_crisis+count_crisis)\n",
    "print(\"percentage of no crisis is: \", pct_of_no_crisis*100)\n",
    "pct_of_crisis = count_crisis/(count_no_crisis+count_crisis)\n",
    "print(\"percentage of crisis is: \", pct_of_crisis*100)"
   ]
  },
  {
   "cell_type": "markdown",
   "metadata": {},
   "source": [
    "Given that our classes are imbalanced, we'll use SMOTE to balance out our classes - specifically, oversampling technique"
   ]
  },
  {
   "cell_type": "code",
   "execution_count": 16,
   "metadata": {},
   "outputs": [],
   "source": [
    "# Over-sampling using SMOTE\n",
    "crisis = df1[df1['banking_crisis'] == 1]\n",
    "no_crisis = df1[df1['banking_crisis']== 0]"
   ]
  },
  {
   "cell_type": "code",
   "execution_count": 17,
   "metadata": {},
   "outputs": [
    {
     "name": "stdout",
     "output_type": "stream",
     "text": [
      "(140, 12) (2681, 12)\n"
     ]
    }
   ],
   "source": [
    "print(crisis.shape, no_crisis.shape)"
   ]
  },
  {
   "cell_type": "code",
   "execution_count": 18,
   "metadata": {},
   "outputs": [],
   "source": [
    "from imblearn.combine import SMOTETomek\n",
    "from imblearn.under_sampling import NearMiss"
   ]
  },
  {
   "cell_type": "code",
   "execution_count": 21,
   "metadata": {},
   "outputs": [],
   "source": [
    "os = SMOTETomek(random_state = 42)"
   ]
  },
  {
   "cell_type": "code",
   "execution_count": 22,
   "metadata": {},
   "outputs": [
    {
     "name": "stdout",
     "output_type": "stream",
     "text": [
      "length of oversampled data is  3756\n",
      "Number of crisis in oversampled data:  1878\n",
      "Number of no crisis:  1878\n",
      "Proportion of no crisis data in oversampled data is  0.5\n",
      "Proportion of crisis data in oversampled data is  0.5\n"
     ]
    }
   ],
   "source": [
    "X_train, X_test, Y_train, Y_test = train_test_split(X, Y, test_size=0.3, random_state=0)\n",
    "columns = X_train.columns\n",
    "os_data_X,os_data_Y = os.fit_sample(X_train, Y_train)\n",
    "# we can Check the numbers of our data\n",
    "print(\"length of oversampled data is \",len(os_data_X))\n",
    "\n",
    "count_crisis = np.count_nonzero(os_data_Y)\n",
    "print(\"Number of crisis in oversampled data: \", count_crisis)\n",
    "\n",
    "count_no_crisis = len(os_data_Y) - np.count_nonzero(os_data_Y)\n",
    "print(\"Number of no crisis: \", count_no_crisis)\n",
    "print(\"Proportion of no crisis data in oversampled data is \", count_no_crisis/len(os_data_X))\n",
    "print(\"Proportion of crisis data in oversampled data is \",count_crisis/len(os_data_X))"
   ]
  },
  {
   "cell_type": "markdown",
   "metadata": {},
   "source": [
    "Note that we've only used training dataset for oversampling - this will preserve the sanctity of the testing dataset"
   ]
  },
  {
   "cell_type": "markdown",
   "metadata": {},
   "source": [
    "### Implementing the logistic regression classifier model"
   ]
  },
  {
   "cell_type": "code",
   "execution_count": 23,
   "metadata": {},
   "outputs": [],
   "source": [
    "# compare counts before an after SMOTE oversampling\n",
    "#from collections import Counter\n",
    "#print(\"original dataset shape {}\".format(Counter(Y)))\n",
    "#print(\"new dataset shape {}\".format(Counter(Y_res)))"
   ]
  },
  {
   "cell_type": "code",
   "execution_count": 24,
   "metadata": {},
   "outputs": [],
   "source": [
    "X1 = os_data_X\n",
    "Y1 = os_data_Y"
   ]
  },
  {
   "cell_type": "code",
   "execution_count": 25,
   "metadata": {},
   "outputs": [],
   "source": [
    "import statsmodels.api as sm"
   ]
  },
  {
   "cell_type": "code",
   "execution_count": 26,
   "metadata": {},
   "outputs": [
    {
     "name": "stdout",
     "output_type": "stream",
     "text": [
      "Warning: Maximum number of iterations has been exceeded.\n",
      "         Current function value: 0.486263\n",
      "         Iterations: 35\n"
     ]
    },
    {
     "name": "stderr",
     "output_type": "stream",
     "text": [
      "C:\\ProgramData\\Anaconda3\\lib\\site-packages\\statsmodels\\base\\model.py:568: ConvergenceWarning: Maximum Likelihood optimization failed to converge. Check mle_retvals\n",
      "  \"Check mle_retvals\", ConvergenceWarning)\n"
     ]
    },
    {
     "name": "stdout",
     "output_type": "stream",
     "text": [
      "                               Results: Logit\n",
      "=============================================================================\n",
      "Model:                   Logit                Pseudo R-squared:     0.298    \n",
      "Dependent Variable:      banking_crisis       AIC:                  3666.8093\n",
      "Date:                    2020-10-18 12:55     BIC:                  3710.4270\n",
      "No. Observations:        3756                 Log-Likelihood:       -1826.4  \n",
      "Df Model:                6                    LL-Null:              -2603.5  \n",
      "Df Residuals:            3749                 LLR p-value:          0.0000   \n",
      "Converged:               0.0000               Scale:                1.0000   \n",
      "No. Iterations:          35.0000                                             \n",
      "-----------------------------------------------------------------------------\n",
      "                           Coef.   Std.Err.    z    P>|z|    [0.025   0.975] \n",
      "-----------------------------------------------------------------------------\n",
      "systemic_crisis             7.1684   0.6033 11.8813 0.0000    5.9859   8.3509\n",
      "gold_standard              -1.0164   0.1725 -5.8923 0.0000   -1.3545  -0.6783\n",
      "Domestic_Debt_In_Default  -12.9233 129.5033 -0.0998 0.9205 -266.7452 240.8986\n",
      "Sovereign_Debt_In_Default  -0.9756   0.3662 -2.6639 0.0077   -1.6933  -0.2578\n",
      "Independence                0.0501   0.0527  0.9503 0.3420   -0.0532   0.1534\n",
      "currency_crises            -2.7370   0.4328 -6.3245 0.0000   -3.5853  -1.8888\n",
      "inflation_crises           -1.4555   0.2345 -6.2071 0.0000   -1.9150  -0.9959\n",
      "=============================================================================\n",
      "\n"
     ]
    }
   ],
   "source": [
    "log_reg_model = sm.Logit(Y1,X1)\n",
    "result = log_reg_model.fit()\n",
    "print(result.summary2())"
   ]
  },
  {
   "cell_type": "code",
   "execution_count": 41,
   "metadata": {},
   "outputs": [
    {
     "name": "stdout",
     "output_type": "stream",
     "text": [
      "Optimization terminated successfully.\n",
      "         Current function value: 0.489304\n",
      "         Iterations 9\n",
      "                             Results: Logit\n",
      "=========================================================================\n",
      "Model:                 Logit               Pseudo R-squared:    0.294    \n",
      "Dependent Variable:    banking_crisis      AIC:                 3685.6484\n",
      "Date:                  2020-10-18 13:12    BIC:                 3716.8039\n",
      "No. Observations:      3756                Log-Likelihood:      -1837.8  \n",
      "Df Model:              4                   LL-Null:             -2603.5  \n",
      "Df Residuals:          3751                LLR p-value:         0.0000   \n",
      "Converged:             1.0000              Scale:               1.0000   \n",
      "No. Iterations:        9.0000                                            \n",
      "-------------------------------------------------------------------------\n",
      "                           Coef.  Std.Err.    z    P>|z|   [0.025  0.975]\n",
      "-------------------------------------------------------------------------\n",
      "systemic_crisis            7.4517   0.5672 13.1383 0.0000  6.3401  8.5633\n",
      "gold_standard             -1.0063   0.1722 -5.8445 0.0000 -1.3438 -0.6689\n",
      "Sovereign_Debt_In_Default -1.8653   0.3260 -5.7218 0.0000 -2.5043 -1.2264\n",
      "currency_crises           -2.8785   0.4400 -6.5417 0.0000 -3.7409 -2.0161\n",
      "inflation_crises          -1.4148   0.2326 -6.0836 0.0000 -1.8706 -0.9590\n",
      "=========================================================================\n",
      "\n"
     ]
    }
   ],
   "source": [
    "# remove the variables where p values > 0.05, and re-run the regresion\n",
    "X1 = os_data_X[['systemic_crisis', 'gold_standard', 'Sovereign_Debt_In_Default', 'currency_crises', 'inflation_crises']]\n",
    "Y1 = os_data_Y\n",
    "log_reg_model = sm.Logit(Y1,X1)\n",
    "result = log_reg_model.fit()\n",
    "print(result.summary2())"
   ]
  },
  {
   "cell_type": "markdown",
   "metadata": {},
   "source": [
    "now that p-values for all variables are below 5%, we can run the logistic regression model using sci-kit learn"
   ]
  },
  {
   "cell_type": "markdown",
   "metadata": {},
   "source": [
    "### Model Validation"
   ]
  },
  {
   "cell_type": "code",
   "execution_count": 43,
   "metadata": {},
   "outputs": [
    {
     "data": {
      "text/plain": [
       "LogisticRegression()"
      ]
     },
     "execution_count": 43,
     "metadata": {},
     "output_type": "execute_result"
    }
   ],
   "source": [
    "from sklearn.linear_model import LogisticRegression\n",
    "from sklearn import metrics\n",
    "X_train, X_test, Y_train, Y_test = train_test_split(X1, Y1, test_size=0.3, random_state=42)\n",
    "logreg = LogisticRegression()\n",
    "logreg.fit(X_train, Y_train)"
   ]
  },
  {
   "cell_type": "code",
   "execution_count": 44,
   "metadata": {},
   "outputs": [
    {
     "name": "stdout",
     "output_type": "stream",
     "text": [
      "Accuracy of logistic regression classifier on test set: 0.75\n"
     ]
    }
   ],
   "source": [
    "Y_pred = logreg.predict(X_test)\n",
    "print('Accuracy of logistic regression classifier on test set: {:.2f}'.format(logreg.score(X_test, Y_test)))"
   ]
  },
  {
   "cell_type": "markdown",
   "metadata": {},
   "source": [
    "### Confusion Matrix"
   ]
  },
  {
   "cell_type": "code",
   "execution_count": 45,
   "metadata": {},
   "outputs": [
    {
     "name": "stdout",
     "output_type": "stream",
     "text": [
      "[[577   3]\n",
      " [277 270]]\n"
     ]
    }
   ],
   "source": [
    "from sklearn.metrics import confusion_matrix\n",
    "confusion_matrix = confusion_matrix(Y_test, Y_pred)\n",
    "print(confusion_matrix)"
   ]
  },
  {
   "cell_type": "markdown",
   "metadata": {},
   "source": [
    "Thus, we see that we have 577 + 270 = 847 correct predictions and 277 + 3 = 280 incorrect predictions as per the logistic regression classifier model.\n",
    "The false positive rate and true positive rate can be visualized using the ROC curve."
   ]
  },
  {
   "cell_type": "markdown",
   "metadata": {},
   "source": [
    "### ROC Curve"
   ]
  },
  {
   "cell_type": "code",
   "execution_count": 46,
   "metadata": {},
   "outputs": [
    {
     "data": {
      "image/png": "[encoded data removed]",
      "text/plain": [
       "<Figure size 432x288 with 1 Axes>"
      ]
     },
     "metadata": {
      "needs_background": "light"
     },
     "output_type": "display_data"
    }
   ],
   "source": [
    "from sklearn.metrics import roc_auc_score\n",
    "from sklearn.metrics import roc_curve\n",
    "logit_roc_auc = roc_auc_score(Y_test, logreg.predict(X_test))\n",
    "fpr, tpr, thresholds = roc_curve(Y_test, logreg.predict_proba(X_test)[:,1])\n",
    "plt.figure()\n",
    "plt.plot(fpr, tpr, label='Logistic Regression (area = %0.2f)' % logit_roc_auc)\n",
    "plt.plot([0, 1], [0, 1],'r--')\n",
    "plt.xlim([0.0, 1.0])\n",
    "plt.ylim([0.0, 1.05])\n",
    "plt.xlabel('False Positive Rate')\n",
    "plt.ylabel('True Positive Rate')\n",
    "plt.title('Receiver operating characteristic')\n",
    "plt.legend(loc=\"lower right\")\n",
    "plt.savefig('Log_ROC')\n",
    "plt.show()"
   ]
  },
  {
   "cell_type": "markdown",
   "metadata": {},
   "source": [
    "### Conclusion :\n",
    "The model indicates that banking crises in Asia may be  correlated with following factors : \n",
    "- systemic_crisis\n",
    "- gold standard\n",
    "- Sovereign Debt in Default\n",
    "- currency crisis\n",
    "- inflation crisis\n",
    "\n",
    "The model can be further improved by adding further variables."
   ]
  },
  {
   "cell_type": "code",
   "execution_count": null,
   "metadata": {},
   "outputs": [],
   "source": []
  }
 ],
 "metadata": {
  "kernelspec": {
   "display_name": "Python 3",
   "language": "python",
   "name": "python3"
  },
  "language_info": {
   "codemirror_mode": {
    "name": "ipython",
    "version": 3
   },
   "file_extension": ".py",
   "mimetype": "text/x-python",
   "name": "python",
   "nbconvert_exporter": "python",
   "pygments_lexer": "ipython3",
   "version": "3.7.6"
  }
 },
 "nbformat": 4,
 "nbformat_minor": 4
}
